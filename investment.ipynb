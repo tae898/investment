{
 "cells": [
  {
   "cell_type": "code",
   "execution_count": null,
   "metadata": {},
   "outputs": [],
   "source": [
    "import pandas as pd\n",
    "import yfinance as yf\n",
    "import random\n",
    "\n",
    "#  table = pd.read_html('https://en.wikipedia.org/wiki/List_of_S%26P_500_companies')\n",
    "#  df = table[0]\n",
    "#  stockdata = df['Symbol'].to_list()\n",
    "# full_stock_data = yf.download(stockdata, '2010-01-01', '2021-03-03')\n",
    "# print(full_stock_data['Volume'])"
   ]
  },
  {
   "cell_type": "code",
   "execution_count": null,
   "metadata": {},
   "outputs": [],
   "source": [
    "data = yf.download(\"^GSPC\")\n",
    "data_array = data.Close.array.to_numpy()"
   ]
  },
  {
   "cell_type": "code",
   "execution_count": null,
   "metadata": {},
   "outputs": [],
   "source": [
    "import matplotlib.pyplot as plt\n",
    "\n",
    "plt.plot(data.Close.array.to_numpy())"
   ]
  },
  {
   "cell_type": "code",
   "execution_count": null,
   "metadata": {},
   "outputs": [],
   "source": [
    "ticker = \"^GSPC\"\n",
    "num_years_investment = 10\n",
    "sum_money = 10000\n",
    "period_days = 30\n",
    "inflation = 0.04"
   ]
  },
  {
   "cell_type": "code",
   "execution_count": 221,
   "metadata": {},
   "outputs": [
    {
     "ename": "SyntaxError",
     "evalue": "invalid syntax (79115944.py, line 42)",
     "output_type": "error",
     "traceback": [
      "\u001b[0;36m  Input \u001b[0;32mIn [221]\u001b[0;36m\u001b[0m\n\u001b[0;31m    self.num_installments = self.num_days_year * self.num_years_investment /. self.period_days\u001b[0m\n\u001b[0m                                                                            ^\u001b[0m\n\u001b[0;31mSyntaxError\u001b[0m\u001b[0;31m:\u001b[0m invalid syntax\n"
     ]
    }
   ],
   "source": [
    "class Money:\n",
    "    def __init__(\n",
    "        self,\n",
    "        ticker: str,\n",
    "        num_years_investment: int,\n",
    "        period_days: int,\n",
    "        inflation: float,\n",
    "        num_trading_days: int = 252,\n",
    "        num_days_year: float = 365.2,\n",
    "    ) -> None:\n",
    "        self.ticker = ticker\n",
    "        self.num_years_investment = num_years_investment\n",
    "        self.period_days = period_days\n",
    "        self.inflation = inflation\n",
    "        self.data = yf.download(self.ticker, interval=\"1d\")\n",
    "        self.data_array = self.data.Close.array.to_numpy()\n",
    "        self.num_trading_days = num_trading_days\n",
    "        self.num_days_year = num_days_year\n",
    "\n",
    "    def get_random_starting_date(self) -> float:\n",
    "        return random.randint(\n",
    "            0,\n",
    "            len(self.data_array)\n",
    "            - self.num_years_investment * self.num_trading_days\n",
    "            - 1,\n",
    "        )\n",
    "\n",
    "    def get_roi_lump(self, start_date: int) -> float:\n",
    "        # This is lump-sum investing\n",
    "        end = self.data_array[\n",
    "            start_date + (self.num_years_investment * self.num_trading_days)\n",
    "        ]\n",
    "        start = self.data_array[start_date]\n",
    "\n",
    "        roi_lump = (end - start) / start\n",
    "\n",
    "        return roi_lump\n",
    "\n",
    "    def get_roi_dca(\n",
    "        self,\n",
    "    ) -> float:\n",
    "        self.num_installments = (\n",
    "            self.num_days_year * self.num_years_investment // self.period_days\n",
    "        )\n",
    "\n",
    "    def get_roi(\n",
    "        self,\n",
    "    ) -> float:\n",
    "\n",
    "        start_date = self.get_random_starting_date()\n",
    "        roi_lump = self.get_roi_lump(start_date)\n",
    "\n",
    "        return roi_lump"
   ]
  },
  {
   "cell_type": "code",
   "execution_count": 209,
   "metadata": {},
   "outputs": [
    {
     "name": "stdout",
     "output_type": "stream",
     "text": [
      "[*********************100%***********************]  1 of 1 completed\n"
     ]
    }
   ],
   "source": [
    "money = Money(ticker=\"^GSPC\", num_years_investment=10, period_days=30, inflation=0.04)"
   ]
  },
  {
   "cell_type": "code",
   "execution_count": 220,
   "metadata": {},
   "outputs": [
    {
     "name": "stdout",
     "output_type": "stream",
     "text": [
      "121.73333333333333\n"
     ]
    }
   ],
   "source": [
    "money.get_roi_dca()\n",
    "print(money.num_installments)"
   ]
  },
  {
   "cell_type": "code",
   "execution_count": 210,
   "metadata": {},
   "outputs": [
    {
     "data": {
      "text/plain": [
       "0.11750788704542421"
      ]
     },
     "execution_count": 210,
     "metadata": {},
     "output_type": "execute_result"
    }
   ],
   "source": [
    "money.get_roi()"
   ]
  },
  {
   "cell_type": "code",
   "execution_count": 142,
   "metadata": {},
   "outputs": [
    {
     "data": {
      "text/plain": [
       "<AxesSubplot:xlabel='Date'>"
      ]
     },
     "execution_count": 142,
     "metadata": {},
     "output_type": "execute_result"
    },
    {
     "data": {
      "image/png": "[encoded data removed]",
      "text/plain": [
       "<Figure size 432x288 with 1 Axes>"
      ]
     },
     "metadata": {
      "needs_background": "light"
     },
     "output_type": "display_data"
    }
   ],
   "source": [
    "money.data.Close.plot()"
   ]
  }
 ],
 "metadata": {
  "kernelspec": {
   "display_name": "Python 3.8.13 ('dev-python3.8')",
   "language": "python",
   "name": "python3"
  },
  "language_info": {
   "codemirror_mode": {
    "name": "ipython",
    "version": 3
   },
   "file_extension": ".py",
   "mimetype": "text/x-python",
   "name": "python",
   "nbconvert_exporter": "python",
   "pygments_lexer": "ipython3",
   "version": "3.8.13"
  },
  "orig_nbformat": 4,
  "vscode": {
   "interpreter": {
    "hash": "c7c14ce45c674ffbe7e3a8bc18299264a1035542c780d18c0e8f0c585e044f28"
   }
  }
 },
 "nbformat": 4,
 "nbformat_minor": 2
}
